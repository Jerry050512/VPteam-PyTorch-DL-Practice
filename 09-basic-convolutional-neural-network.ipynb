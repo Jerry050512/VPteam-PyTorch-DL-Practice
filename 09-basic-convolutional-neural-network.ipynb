{
 "cells": [
  {
   "cell_type": "code",
   "execution_count": 1,
   "metadata": {},
   "outputs": [],
   "source": [
    "import torch\n",
    "import torch.nn.functional as F\n",
    "import numpy as np\n",
    "import matplotlib.pyplot as plt\n",
    "\n",
    "from torch.utils.data import Dataset, DataLoader\n",
    "from torchvision import transforms\n",
    "from torchvision import datasets"
   ]
  },
  {
   "cell_type": "markdown",
   "metadata": {},
   "source": [
    "# 卷积神经网络\n",
    "\n",
    "## 相关概念\n",
    "\n",
    "- Feature Extraction - 特征提取器: 利用卷积层提取特征\n",
    "- Classifier - 分类器: 利用全连接层进行分类\n",
    "- Convolutional Neural Network - 卷积神经网络\n",
    "- Convolutional Layer - 卷积层\n",
    "- Pooling Layer - 池化层\n",
    "- Fully Connected Layer - 全连接层\n",
    "- Activation Function - 激活函数\n",
    "- Loss Function - 损失函数\n",
    "- Optimizer - 优化器\n",
    "- Batch Normalization - 批量归一化\n",
    "- Dropout - Dropout\n",
    "- Weight Initialization - 权重初始化\n",
    "- Regularization - 正则化\n",
    "- Activation - 激活函数\n",
    "\n"
   ]
  },
  {
   "cell_type": "markdown",
   "metadata": {},
   "source": [
    "## Convolutional Layer"
   ]
  },
  {
   "cell_type": "code",
   "execution_count": 2,
   "metadata": {},
   "outputs": [
    {
     "name": "stdout",
     "output_type": "stream",
     "text": [
      "torch.Size([1, 5, 100, 100])\n",
      "torch.Size([1, 10, 98, 98])\n",
      "torch.Size([10, 5, 3, 3])\n"
     ]
    }
   ],
   "source": [
    "in_channel, out_channel, kernel_size = 5, 10, 3\n",
    "width, height = 100, 100\n",
    "batch_size = 1\n",
    "\n",
    "input = torch.randn(batch_size, in_channel, width, height)\n",
    "conv_layer = torch.nn.Conv2d(in_channel, out_channel, kernel_size)\n",
    "output = conv_layer(input)\n",
    "\n",
    "print(input.shape)\n",
    "print(output.shape)\n",
    "print(conv_layer.weight.shape)"
   ]
  },
  {
   "cell_type": "markdown",
   "metadata": {},
   "source": [
    "### Padding = 1 & Stride = 2\n",
    "\n",
    "参数说明: \n",
    "- Padding: 填充大小，默认为0，表示不填充。\n",
    "- Stride: 步长，默认为1。"
   ]
  },
  {
   "cell_type": "code",
   "execution_count": 3,
   "metadata": {},
   "outputs": [
    {
     "name": "stdout",
     "output_type": "stream",
     "text": [
      "tensor([[[[ 91., 224., 127.],\n",
      "          [192., 282., 122.],\n",
      "          [ 96., 110.,  31.]]]], grad_fn=<ConvolutionBackward0>)\n"
     ]
    }
   ],
   "source": [
    "input = [\n",
    "    3, 4, 6, 5, 7,\n",
    "    2, 4, 6, 8, 2, \n",
    "    1, 6, 7, 8, 4, \n",
    "    9, 7, 4, 6, 2, \n",
    "    3, 7, 5, 4, 1\n",
    "]\n",
    "input = torch.tensor(input, dtype=torch.float32).view(1, 1, 5, 5)\n",
    "\n",
    "conv_layer = torch.nn.Conv2d(1, 1, 3, padding=1, stride=2, bias=False)\n",
    "kernel = torch.Tensor([1, 2, 3, 4, 5, 6, 7, 8, 9]).view(1, 1, 3, 3)\n",
    "conv_layer.weight.data = kernel.data\n",
    "\n",
    "output = conv_layer(input)\n",
    "print(output)"
   ]
  },
  {
   "cell_type": "markdown",
   "metadata": {},
   "source": [
    "## 下采样: Max Pooling - 最大池化层\n",
    "\n",
    "通道数不变, 宽高缩小为原来的一半"
   ]
  },
  {
   "cell_type": "code",
   "execution_count": 4,
   "metadata": {},
   "outputs": [
    {
     "name": "stdout",
     "output_type": "stream",
     "text": [
      "tensor([[[[4., 8.],\n",
      "          [9., 8.]]]])\n"
     ]
    }
   ],
   "source": [
    "input = [\n",
    "    3, 4, 6, 5, \n",
    "    2, 4, 6, 8, \n",
    "    1, 6, 7, 8,\n",
    "    9, 7, 4, 6,\n",
    "]\n",
    "input = torch.tensor(input, dtype=torch.float32).view(1, 1, 4, 4)\n",
    "\n",
    "maxpooling_layer = torch.nn.MaxPool2d(2)\n",
    "\n",
    "output = maxpooling_layer(input)\n",
    "print(output)"
   ]
  },
  {
   "cell_type": "markdown",
   "metadata": {},
   "source": [
    "## Prepare Dataset (ignore this part)"
   ]
  },
  {
   "cell_type": "code",
   "execution_count": 5,
   "metadata": {},
   "outputs": [],
   "source": [
    "batch_size = 64\n",
    "transform = transforms.Compose([\n",
    "    transforms.ToTensor(),                      # Convert PIL image to PyTorch Tensor.\n",
    "    transforms.Normalize((0.1307,), (0.3081,))  # Normalize using the mean value and std loss value\n",
    "])\n",
    "\n",
    "train_dataset = datasets.MNIST(root='./dataset/mnist', train=True, transform=transform, download=True)\n",
    "train_loader = DataLoader(dataset=train_dataset, batch_size=batch_size, shuffle=True)\n",
    "\n",
    "test_dataset = datasets.MNIST(root='./dataset/mnist', train=False, transform=transform, download=True)\n",
    "test_loader = DataLoader(dataset=test_dataset, batch_size=batch_size, shuffle=False)"
   ]
  },
  {
   "cell_type": "markdown",
   "metadata": {},
   "source": [
    "## 网络实现"
   ]
  },
  {
   "cell_type": "code",
   "execution_count": 6,
   "metadata": {},
   "outputs": [],
   "source": [
    "class Net(torch.nn.Module):\n",
    "    def __init__(self):\n",
    "        super().__init__()\n",
    "        self.conv1 = torch.nn.Conv2d(1, 10, 5)\n",
    "        self.conv2 = torch.nn.Conv2d(10, 20, 5)\n",
    "        self.pooling = torch.nn.MaxPool2d(2)\n",
    "        self.fc = torch.nn.Linear(320, 10)\n",
    "\n",
    "    def forward(self, x):\n",
    "        # Flatten data from (n, 1, 28, 28) to (n, 784)\n",
    "        batch_size = x.size(0)\n",
    "        x = self.pooling(F.relu(self.conv1(x)))\n",
    "        x = self.pooling(F.relu(self.conv2(x)))\n",
    "        x = x.view(batch_size, -1)              # Flatten\n",
    "        x = self.fc(x)\n",
    "        return x\n",
    "    \n",
    "model = Net()\n",
    "\n",
    "criterion = torch.nn.CrossEntropyLoss()\n",
    "optimizer = torch.optim.SGD(model.parameters(), lr=0.01, momentum=0.5)"
   ]
  },
  {
   "cell_type": "markdown",
   "metadata": {},
   "source": [
    "## Move model to GPU"
   ]
  },
  {
   "cell_type": "code",
   "execution_count": null,
   "metadata": {},
   "outputs": [],
   "source": [
    "device = torch.device(\"cuda\" if torch.cuda.is_available() else \"cpu\")\n",
    "model.to(device)"
   ]
  },
  {
   "cell_type": "code",
   "execution_count": 7,
   "metadata": {},
   "outputs": [
    {
     "name": "stdout",
     "output_type": "stream",
     "text": [
      "[1,   100] loss: 0.998\n",
      "[1,   200] loss: 0.314\n",
      "[1,   300] loss: 0.230\n",
      "[1,   400] loss: 0.195\n",
      "[1,   500] loss: 0.170\n",
      "[1,   600] loss: 0.145\n",
      "[1,   700] loss: 0.150\n",
      "[1,   800] loss: 0.131\n",
      "[1,   900] loss: 0.115\n",
      "[2,   100] loss: 0.107\n",
      "[2,   200] loss: 0.107\n",
      "[2,   300] loss: 0.093\n",
      "[2,   400] loss: 0.076\n",
      "[2,   500] loss: 0.093\n",
      "[2,   600] loss: 0.087\n",
      "[2,   700] loss: 0.095\n",
      "[2,   800] loss: 0.086\n",
      "[2,   900] loss: 0.082\n",
      "[3,   100] loss: 0.085\n",
      "[3,   200] loss: 0.080\n",
      "[3,   300] loss: 0.075\n",
      "[3,   400] loss: 0.069\n",
      "[3,   500] loss: 0.070\n",
      "[3,   600] loss: 0.064\n",
      "[3,   700] loss: 0.068\n",
      "[3,   800] loss: 0.058\n",
      "[3,   900] loss: 0.070\n",
      "[4,   100] loss: 0.061\n",
      "[4,   200] loss: 0.062\n",
      "[4,   300] loss: 0.066\n",
      "[4,   400] loss: 0.061\n",
      "[4,   500] loss: 0.057\n",
      "[4,   600] loss: 0.062\n",
      "[4,   700] loss: 0.059\n",
      "[4,   800] loss: 0.064\n",
      "[4,   900] loss: 0.057\n",
      "[5,   100] loss: 0.063\n",
      "[5,   200] loss: 0.051\n",
      "[5,   300] loss: 0.059\n",
      "[5,   400] loss: 0.050\n",
      "[5,   500] loss: 0.052\n",
      "[5,   600] loss: 0.051\n",
      "[5,   700] loss: 0.046\n",
      "[5,   800] loss: 0.055\n",
      "[5,   900] loss: 0.050\n",
      "[6,   100] loss: 0.052\n",
      "[6,   200] loss: 0.046\n",
      "[6,   300] loss: 0.049\n",
      "[6,   400] loss: 0.054\n",
      "[6,   500] loss: 0.049\n",
      "[6,   600] loss: 0.043\n",
      "[6,   700] loss: 0.044\n",
      "[6,   800] loss: 0.042\n",
      "[6,   900] loss: 0.049\n",
      "[7,   100] loss: 0.044\n",
      "[7,   200] loss: 0.049\n",
      "[7,   300] loss: 0.038\n",
      "[7,   400] loss: 0.047\n",
      "[7,   500] loss: 0.045\n",
      "[7,   600] loss: 0.046\n",
      "[7,   700] loss: 0.038\n",
      "[7,   800] loss: 0.050\n",
      "[7,   900] loss: 0.043\n",
      "[8,   100] loss: 0.036\n",
      "[8,   200] loss: 0.038\n",
      "[8,   300] loss: 0.043\n",
      "[8,   400] loss: 0.040\n",
      "[8,   500] loss: 0.035\n",
      "[8,   600] loss: 0.038\n",
      "[8,   700] loss: 0.043\n",
      "[8,   800] loss: 0.047\n",
      "[8,   900] loss: 0.048\n",
      "[9,   100] loss: 0.036\n",
      "[9,   200] loss: 0.034\n",
      "[9,   300] loss: 0.045\n",
      "[9,   400] loss: 0.037\n",
      "[9,   500] loss: 0.041\n",
      "[9,   600] loss: 0.037\n",
      "[9,   700] loss: 0.029\n",
      "[9,   800] loss: 0.042\n",
      "[9,   900] loss: 0.040\n",
      "[10,   100] loss: 0.037\n",
      "[10,   200] loss: 0.027\n",
      "[10,   300] loss: 0.035\n",
      "[10,   400] loss: 0.038\n",
      "[10,   500] loss: 0.035\n",
      "[10,   600] loss: 0.042\n",
      "[10,   700] loss: 0.028\n",
      "[10,   800] loss: 0.039\n",
      "[10,   900] loss: 0.036\n",
      "Accuracy on test set:  98.7100%\n"
     ]
    }
   ],
   "source": [
    "def train(epoch: int):\n",
    "    running_loss = 0.0\n",
    "    for batch_idx, (inputs, target) in enumerate(train_loader):\n",
    "        inputs, target = inputs.to(device), target.to(device)\n",
    "        optimizer.zero_grad()\n",
    "\n",
    "        outputs = model(inputs)\n",
    "        loss = criterion(outputs, target)\n",
    "        loss.backward()\n",
    "        optimizer.step()\n",
    "\n",
    "        running_loss += loss.item()\n",
    "        if batch_idx % 100 == 99:\n",
    "            print(f'[{epoch + 1}, {batch_idx + 1:5d}] loss: {running_loss / 100:.3f}')\n",
    "            running_loss = 0.0\n",
    "\n",
    "def test():\n",
    "    correct = 0\n",
    "    total = 0\n",
    "    with torch.no_grad():\n",
    "        for (images, labels) in test_loader:\n",
    "            images, labels = images.to(device), labels.to(device)\n",
    "            outputs = model(images)\n",
    "            _, predicted = torch.max(outputs.data, 1)\n",
    "            total += labels.size(0)\n",
    "            correct += (predicted == labels).sum().item()\n",
    "    print(f'Accuracy on test set: {100 * correct / total: .4f}%')\n",
    "\n",
    "if __name__ == '__main__':\n",
    "    for epoch in range(10):\n",
    "        train(epoch)\n",
    "        if epoch % 10 == 9:\n",
    "            test()"
   ]
  },
  {
   "cell_type": "markdown",
   "metadata": {},
   "source": [
    "## 作业\n",
    "\n",
    "- 设计一个更加复杂的CNN: \n",
    "  - ConvLayer * 3\n",
    "  - ReLU Layer * 3\n",
    "  - MaxPoolingLayer * 3\n",
    "  - Linear Layer * 3\n",
    "- 尝试一个不同配置的CNN: \n",
    "  - 比较不同配置的CNN的性能"
   ]
  }
 ],
 "metadata": {
  "kernelspec": {
   "display_name": "vpteam",
   "language": "python",
   "name": "python3"
  },
  "language_info": {
   "codemirror_mode": {
    "name": "ipython",
    "version": 3
   },
   "file_extension": ".py",
   "mimetype": "text/x-python",
   "name": "python",
   "nbconvert_exporter": "python",
   "pygments_lexer": "ipython3",
   "version": "3.8.18"
  }
 },
 "nbformat": 4,
 "nbformat_minor": 2
}
