{
 "cells": [
  {
   "cell_type": "code",
   "execution_count": 1,
   "metadata": {},
   "outputs": [],
   "source": [
    "import torch\n",
    "import numpy as np\n",
    "import matplotlib.pyplot as plt"
   ]
  },
  {
   "cell_type": "markdown",
   "metadata": {},
   "source": [
    "# 利用 Pytorch 构建线性模型\n",
    "\n",
    "## Steps\n",
    "\n",
    "1. Prepare dataset.\n",
    "2. Design model using Class.\n",
    "3. Construct Loss and Optimizer.\n",
    "4. Training cycle. "
   ]
  },
  {
   "cell_type": "markdown",
   "metadata": {},
   "source": [
    "## Step-1 准备数据集\n",
    "\n",
    "基于以下公式可以构建线性回归模型：\n",
    "\n",
    "$$ \n",
    "\\begin{bmatrix}\n",
    "\\hat y^{(1)} \\\\\n",
    "\\hat y^{(2)} \\\\\n",
    "\\vdots \\\\\n",
    "\\hat y^{(n)}\n",
    "\\end{bmatrix}\n",
    "= \\omega \\cdot \n",
    "\\begin{bmatrix}\n",
    "x^{(1)} \\\\\n",
    "x^{(2)} \\\\\n",
    "\\vdots \\\\\n",
    "x^{(n)}\n",
    "\\end{bmatrix}\n",
    "+ b\n",
    "$$"
   ]
  },
  {
   "cell_type": "code",
   "execution_count": 2,
   "metadata": {},
   "outputs": [],
   "source": [
    "x_data = [[float(i)] for i in range(1, 6)]\n",
    "y_data = [[2 * i[0]] for i in x_data]\n",
    "x_data = torch.Tensor(x_data)\n",
    "y_data = torch.Tensor(y_data)"
   ]
  },
  {
   "cell_type": "markdown",
   "metadata": {},
   "source": [
    "## Step-2 设计模型\n",
    "\n",
    "重点: 构造计算图\n",
    "\n",
    "对于线性模型, 可以通过确定输入与输出 $x$ 和 $\\hat y$ 的维度来确定weight与bias的形状. "
   ]
  },
  {
   "cell_type": "code",
   "execution_count": 3,
   "metadata": {},
   "outputs": [],
   "source": [
    "class LinearModel(torch.nn.Module):\n",
    "    def __init__(self):\n",
    "        super().__init__()\n",
    "        self.linear = torch.nn.Linear(1, 1)     # (1, 1) is the size of input and output\n",
    "    \n",
    "    def forward(self, x):\n",
    "        y_pred = self.linear(x)\n",
    "        return y_pred\n",
    "    \n",
    "model = LinearModel()"
   ]
  },
  {
   "cell_type": "markdown",
   "metadata": {},
   "source": [
    "## Step-3 构造损失函数和优化器\n",
    "\n",
    "[MSE Loss文档](https://pytorch.org/docs/stable/generated/torch.nn.MSELoss.html#torch.nn.MSELoss)"
   ]
  },
  {
   "cell_type": "code",
   "execution_count": 4,
   "metadata": {},
   "outputs": [],
   "source": [
    "criterion = torch.nn.MSELoss(reduction='sum')\n",
    "optimizer = torch.optim.SGD(model.parameters(), lr=0.01)"
   ]
  },
  {
   "cell_type": "markdown",
   "metadata": {},
   "source": [
    "## Step-4 训练模型\n",
    "\n",
    "1. Compute $\\hat y$ using model.\n",
    "2. Compute Loss using criterion.\n",
    "3. Backward.\n",
    "4. Update weight and bias using optimizer."
   ]
  },
  {
   "cell_type": "code",
   "execution_count": 5,
   "metadata": {},
   "outputs": [
    {
     "name": "stdout",
     "output_type": "stream",
     "text": [
      "Epoch: 0, Loss: 299.2327575683594\n",
      "Epoch: 1, Loss: 10.170336723327637\n",
      "Epoch: 2, Loss: 0.4751925766468048\n",
      "Epoch: 3, Loss: 0.14567337930202484\n",
      "Epoch: 4, Loss: 0.1302768439054489\n",
      "Epoch: 5, Loss: 0.12555699050426483\n",
      "Epoch: 6, Loss: 0.12133609503507614\n",
      "Epoch: 7, Loss: 0.11726821959018707\n",
      "Epoch: 8, Loss: 0.11333706974983215\n",
      "Epoch: 9, Loss: 0.10953731834888458\n",
      "Epoch: 10, Loss: 0.1058652400970459\n",
      "Epoch: 11, Loss: 0.10231663286685944\n",
      "Epoch: 12, Loss: 0.09888625890016556\n",
      "Epoch: 13, Loss: 0.09557110071182251\n",
      "Epoch: 14, Loss: 0.09236718714237213\n",
      "Epoch: 15, Loss: 0.08927077054977417\n",
      "Epoch: 16, Loss: 0.08627809584140778\n",
      "Epoch: 17, Loss: 0.0833856463432312\n",
      "Epoch: 18, Loss: 0.08059022575616837\n",
      "Epoch: 19, Loss: 0.07788857072591782\n",
      "Epoch: 20, Loss: 0.07527760416269302\n",
      "Epoch: 21, Loss: 0.07275383174419403\n",
      "Epoch: 22, Loss: 0.07031502574682236\n",
      "Epoch: 23, Loss: 0.06795777380466461\n",
      "Epoch: 24, Loss: 0.06567952036857605\n",
      "Epoch: 25, Loss: 0.06347770243883133\n",
      "Epoch: 26, Loss: 0.061349671334028244\n",
      "Epoch: 27, Loss: 0.05929296463727951\n",
      "Epoch: 28, Loss: 0.057305168360471725\n",
      "Epoch: 29, Loss: 0.055384088307619095\n",
      "Epoch: 30, Loss: 0.05352754890918732\n",
      "Epoch: 31, Loss: 0.05173302814364433\n",
      "Epoch: 32, Loss: 0.04999876022338867\n",
      "Epoch: 33, Loss: 0.04832259193062782\n",
      "Epoch: 34, Loss: 0.04670250788331032\n",
      "Epoch: 35, Loss: 0.04513699933886528\n",
      "Epoch: 36, Loss: 0.043623704463243484\n",
      "Epoch: 37, Loss: 0.04216134548187256\n",
      "Epoch: 38, Loss: 0.0407479964196682\n",
      "Epoch: 39, Loss: 0.03938179463148117\n",
      "Epoch: 40, Loss: 0.03806176036596298\n",
      "Epoch: 41, Loss: 0.03678573668003082\n",
      "Epoch: 42, Loss: 0.03555247187614441\n",
      "Epoch: 43, Loss: 0.0343606099486351\n",
      "Epoch: 44, Loss: 0.03320872038602829\n",
      "Epoch: 45, Loss: 0.03209535405039787\n",
      "Epoch: 46, Loss: 0.031019434332847595\n",
      "Epoch: 47, Loss: 0.029979730024933815\n",
      "Epoch: 48, Loss: 0.028974594548344612\n",
      "Epoch: 49, Loss: 0.028003213927149773\n",
      "Epoch: 50, Loss: 0.027064424008131027\n",
      "Epoch: 51, Loss: 0.026157177984714508\n",
      "Epoch: 52, Loss: 0.025280224159359932\n",
      "Epoch: 53, Loss: 0.02443266287446022\n",
      "Epoch: 54, Loss: 0.02361375465989113\n",
      "Epoch: 55, Loss: 0.02282201312482357\n",
      "Epoch: 56, Loss: 0.022057045251131058\n",
      "Epoch: 57, Loss: 0.02131761610507965\n",
      "Epoch: 58, Loss: 0.02060292847454548\n",
      "Epoch: 59, Loss: 0.01991223730146885\n",
      "Epoch: 60, Loss: 0.019244711846113205\n",
      "Epoch: 61, Loss: 0.018599476665258408\n",
      "Epoch: 62, Loss: 0.01797601766884327\n",
      "Epoch: 63, Loss: 0.017373502254486084\n",
      "Epoch: 64, Loss: 0.01679103448987007\n",
      "Epoch: 65, Loss: 0.01622806116938591\n",
      "Epoch: 66, Loss: 0.015684019774198532\n",
      "Epoch: 67, Loss: 0.0151582732796669\n",
      "Epoch: 68, Loss: 0.014650054275989532\n",
      "Epoch: 69, Loss: 0.014159027487039566\n",
      "Epoch: 70, Loss: 0.013684297911822796\n",
      "Epoch: 71, Loss: 0.013225564733147621\n",
      "Epoch: 72, Loss: 0.012782207690179348\n",
      "Epoch: 73, Loss: 0.012353628873825073\n",
      "Epoch: 74, Loss: 0.011939529329538345\n",
      "Epoch: 75, Loss: 0.01153931301087141\n",
      "Epoch: 76, Loss: 0.011152505874633789\n",
      "Epoch: 77, Loss: 0.010778600350022316\n",
      "Epoch: 78, Loss: 0.010417213663458824\n",
      "Epoch: 79, Loss: 0.010068034753203392\n",
      "Epoch: 80, Loss: 0.009730500169098377\n",
      "Epoch: 81, Loss: 0.009404255077242851\n",
      "Epoch: 82, Loss: 0.009088985621929169\n",
      "Epoch: 83, Loss: 0.008784285746514797\n",
      "Epoch: 84, Loss: 0.008489820174872875\n",
      "Epoch: 85, Loss: 0.008205201476812363\n",
      "Epoch: 86, Loss: 0.00793016143143177\n",
      "Epoch: 87, Loss: 0.00766432099044323\n",
      "Epoch: 88, Loss: 0.007407324854284525\n",
      "Epoch: 89, Loss: 0.007159019820392132\n",
      "Epoch: 90, Loss: 0.006919060368090868\n",
      "Epoch: 91, Loss: 0.0066870953887701035\n",
      "Epoch: 92, Loss: 0.006462933029979467\n",
      "Epoch: 93, Loss: 0.006246259436011314\n",
      "Epoch: 94, Loss: 0.00603688508272171\n",
      "Epoch: 95, Loss: 0.005834461655467749\n",
      "Epoch: 96, Loss: 0.005638907663524151\n",
      "Epoch: 97, Loss: 0.005449838470667601\n",
      "Epoch: 98, Loss: 0.005267164204269648\n",
      "Epoch: 99, Loss: 0.0050905668176710606\n",
      "w: 1.9796346426010132\n",
      "b: 0.07352535426616669\n",
      "y_pred: 6.012429237365723\n"
     ]
    },
    {
     "ename": "",
     "evalue": "",
     "output_type": "error",
     "traceback": [
      "\u001b[1;31mThe Kernel crashed while executing code in the current cell or a previous cell. \n",
      "\u001b[1;31mPlease review the code in the cell(s) to identify a possible cause of the failure. \n",
      "\u001b[1;31mClick <a href='https://aka.ms/vscodeJupyterKernelCrash'>here</a> for more info. \n",
      "\u001b[1;31mView Jupyter <a href='command:jupyter.viewOutput'>log</a> for further details."
     ]
    }
   ],
   "source": [
    "for epoch in range(100):\n",
    "    y_pred = model(x_data)\n",
    "    loss = criterion(y_pred, y_data)\n",
    "    print(f'Epoch: {epoch}, Loss: {loss.item()}')\n",
    "\n",
    "    optimizer.zero_grad()\n",
    "    loss.backward()\n",
    "    optimizer.step()\n",
    "\n",
    "print('w:', model.linear.weight.item())\n",
    "print('b:', model.linear.bias.item())\n",
    "\n",
    "x_test = torch.Tensor([[3.0]])\n",
    "y_test = model(x_test)\n",
    "print('y_pred:', y_test.item())"
   ]
  }
 ],
 "metadata": {
  "kernelspec": {
   "display_name": "vpteam",
   "language": "python",
   "name": "python3"
  },
  "language_info": {
   "codemirror_mode": {
    "name": "ipython",
    "version": 3
   },
   "file_extension": ".py",
   "mimetype": "text/x-python",
   "name": "python",
   "nbconvert_exporter": "python",
   "pygments_lexer": "ipython3",
   "version": "0.0.0"
  }
 },
 "nbformat": 4,
 "nbformat_minor": 2
}
